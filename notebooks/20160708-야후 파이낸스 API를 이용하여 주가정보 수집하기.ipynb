{
 "cells": [
  {
   "cell_type": "code",
   "execution_count": 1,
   "metadata": {
    "collapsed": true
   },
   "outputs": [],
   "source": [
    "import pandas as pd\n",
    "from pandas import DataFrame, Series"
   ]
  },
  {
   "cell_type": "code",
   "execution_count": 2,
   "metadata": {
    "collapsed": true
   },
   "outputs": [],
   "source": [
    "from yahoo_finance import Share"
   ]
  },
  {
   "cell_type": "code",
   "execution_count": 7,
   "metadata": {
    "collapsed": true
   },
   "outputs": [],
   "source": [
    "samsung = Share('005930.KS')"
   ]
  },
  {
   "cell_type": "code",
   "execution_count": 8,
   "metadata": {
    "collapsed": false
   },
   "outputs": [
    {
     "data": {
      "text/plain": [
       "{'CompanyName': None,\n",
       " 'end': '2016-07-09',\n",
       " 'start': '2000-01-04',\n",
       " 'symbol': '005930.KS'}"
      ]
     },
     "execution_count": 8,
     "metadata": {},
     "output_type": "execute_result"
    }
   ],
   "source": [
    "samsung.get_info()"
   ]
  },
  {
   "cell_type": "code",
   "execution_count": 9,
   "metadata": {
    "collapsed": false
   },
   "outputs": [
    {
     "data": {
      "text/plain": [
       "'1475000.00'"
      ]
     },
     "execution_count": 9,
     "metadata": {},
     "output_type": "execute_result"
    }
   ],
   "source": [
    "samsung.get_days_high()"
   ]
  },
  {
   "cell_type": "code",
   "execution_count": 10,
   "metadata": {
    "collapsed": false
   },
   "outputs": [
    {
     "data": {
      "text/plain": [
       "[{'Adj_Close': '1425000.00',\n",
       "  'Close': '1425000.00',\n",
       "  'Date': '2016-06-30',\n",
       "  'High': '1445000.00',\n",
       "  'Low': '1397000.00',\n",
       "  'Open': '1408000.00',\n",
       "  'Symbol': '005930.KS',\n",
       "  'Volume': '273400'},\n",
       " {'Adj_Close': '1396000.00',\n",
       "  'Close': '1396000.00',\n",
       "  'Date': '2016-06-29',\n",
       "  'High': '1412000.00',\n",
       "  'Low': '1391000.00',\n",
       "  'Open': '1408000.00',\n",
       "  'Symbol': '005930.KS',\n",
       "  'Volume': '210500'},\n",
       " {'Adj_Close': '1399000.00',\n",
       "  'Close': '1399000.00',\n",
       "  'Date': '2016-06-28',\n",
       "  'High': '1404000.00',\n",
       "  'Low': '1379000.00',\n",
       "  'Open': '1390000.00',\n",
       "  'Symbol': '005930.KS',\n",
       "  'Volume': '214300'},\n",
       " {'Adj_Close': '1398000.00',\n",
       "  'Close': '1398000.00',\n",
       "  'Date': '2016-06-27',\n",
       "  'High': '1405000.00',\n",
       "  'Low': '1385000.00',\n",
       "  'Open': '1400000.00',\n",
       "  'Symbol': '005930.KS',\n",
       "  'Volume': '236700'},\n",
       " {'Adj_Close': '1400000.00',\n",
       "  'Close': '1400000.00',\n",
       "  'Date': '2016-06-24',\n",
       "  'High': '1445000.00',\n",
       "  'Low': '1360000.00',\n",
       "  'Open': '1445000.00',\n",
       "  'Symbol': '005930.KS',\n",
       "  'Volume': '411000'},\n",
       " {'Adj_Close': '1430000.00',\n",
       "  'Close': '1430000.00',\n",
       "  'Date': '2016-06-23',\n",
       "  'High': '1445000.00',\n",
       "  'Low': '1427000.00',\n",
       "  'Open': '1444000.00',\n",
       "  'Symbol': '005930.KS',\n",
       "  'Volume': '225100'},\n",
       " {'Adj_Close': '1445000.00',\n",
       "  'Close': '1445000.00',\n",
       "  'Date': '2016-06-22',\n",
       "  'High': '1450000.00',\n",
       "  'Low': '1431000.00',\n",
       "  'Open': '1446000.00',\n",
       "  'Symbol': '005930.KS',\n",
       "  'Volume': '178900'},\n",
       " {'Adj_Close': '1448000.00',\n",
       "  'Close': '1448000.00',\n",
       "  'Date': '2016-06-21',\n",
       "  'High': '1449000.00',\n",
       "  'Low': '1426000.00',\n",
       "  'Open': '1432000.00',\n",
       "  'Symbol': '005930.KS',\n",
       "  'Volume': '200400'},\n",
       " {'Adj_Close': '1431000.00',\n",
       "  'Close': '1431000.00',\n",
       "  'Date': '2016-06-20',\n",
       "  'High': '1448000.00',\n",
       "  'Low': '1426000.00',\n",
       "  'Open': '1427000.00',\n",
       "  'Symbol': '005930.KS',\n",
       "  'Volume': '270300'},\n",
       " {'Adj_Close': '1426000.00',\n",
       "  'Close': '1426000.00',\n",
       "  'Date': '2016-06-17',\n",
       "  'High': '1435000.00',\n",
       "  'Low': '1410000.00',\n",
       "  'Open': '1410000.00',\n",
       "  'Symbol': '005930.KS',\n",
       "  'Volume': '328300'},\n",
       " {'Adj_Close': '1409000.00',\n",
       "  'Close': '1409000.00',\n",
       "  'Date': '2016-06-16',\n",
       "  'High': '1417000.00',\n",
       "  'Low': '1395000.00',\n",
       "  'Open': '1413000.00',\n",
       "  'Symbol': '005930.KS',\n",
       "  'Volume': '292400'},\n",
       " {'Adj_Close': '1413000.00',\n",
       "  'Close': '1413000.00',\n",
       "  'Date': '2016-06-15',\n",
       "  'High': '1416000.00',\n",
       "  'Low': '1383000.00',\n",
       "  'Open': '1385000.00',\n",
       "  'Symbol': '005930.KS',\n",
       "  'Volume': '306600'},\n",
       " {'Adj_Close': '1380000.00',\n",
       "  'Close': '1380000.00',\n",
       "  'Date': '2016-06-14',\n",
       "  'High': '1386000.00',\n",
       "  'Low': '1369000.00',\n",
       "  'Open': '1371000.00',\n",
       "  'Symbol': '005930.KS',\n",
       "  'Volume': '245400'},\n",
       " {'Adj_Close': '1371000.00',\n",
       "  'Close': '1371000.00',\n",
       "  'Date': '2016-06-13',\n",
       "  'High': '1396000.00',\n",
       "  'Low': '1362000.00',\n",
       "  'Open': '1396000.00',\n",
       "  'Symbol': '005930.KS',\n",
       "  'Volume': '304900'},\n",
       " {'Adj_Close': '1406000.00',\n",
       "  'Close': '1406000.00',\n",
       "  'Date': '2016-06-10',\n",
       "  'High': '1425000.00',\n",
       "  'Low': '1404000.00',\n",
       "  'Open': '1424000.00',\n",
       "  'Symbol': '005930.KS',\n",
       "  'Volume': '289600'},\n",
       " {'Adj_Close': '1430000.00',\n",
       "  'Close': '1430000.00',\n",
       "  'Date': '2016-06-09',\n",
       "  'High': '1430000.00',\n",
       "  'Low': '1406000.00',\n",
       "  'Open': '1408000.00',\n",
       "  'Symbol': '005930.KS',\n",
       "  'Volume': '515300'},\n",
       " {'Adj_Close': '1406000.00',\n",
       "  'Close': '1406000.00',\n",
       "  'Date': '2016-06-08',\n",
       "  'High': '1419000.00',\n",
       "  'Low': '1389000.00',\n",
       "  'Open': '1419000.00',\n",
       "  'Symbol': '005930.KS',\n",
       "  'Volume': '376100'},\n",
       " {'Adj_Close': '1398000.00',\n",
       "  'Close': '1398000.00',\n",
       "  'Date': '2016-06-07',\n",
       "  'High': '1402000.00',\n",
       "  'Low': '1380000.00',\n",
       "  'Open': '1386000.00',\n",
       "  'Symbol': '005930.KS',\n",
       "  'Volume': '462800'},\n",
       " {'Adj_Close': '1377000.00',\n",
       "  'Close': '1377000.00',\n",
       "  'Date': '2016-06-06',\n",
       "  'High': '1377000.00',\n",
       "  'Low': '1377000.00',\n",
       "  'Open': '1377000.00',\n",
       "  'Symbol': '005930.KS',\n",
       "  'Volume': '000'},\n",
       " {'Adj_Close': '1377000.00',\n",
       "  'Close': '1377000.00',\n",
       "  'Date': '2016-06-03',\n",
       "  'High': '1379000.00',\n",
       "  'Low': '1364000.00',\n",
       "  'Open': '1370000.00',\n",
       "  'Symbol': '005930.KS',\n",
       "  'Volume': '341300'},\n",
       " {'Adj_Close': '1365000.00',\n",
       "  'Close': '1365000.00',\n",
       "  'Date': '2016-06-02',\n",
       "  'High': '1372000.00',\n",
       "  'Low': '1346000.00',\n",
       "  'Open': '1350000.00',\n",
       "  'Symbol': '005930.KS',\n",
       "  'Volume': '476100'},\n",
       " {'Adj_Close': '1333000.00',\n",
       "  'Close': '1333000.00',\n",
       "  'Date': '2016-06-01',\n",
       "  'High': '1341000.00',\n",
       "  'Low': '1295000.00',\n",
       "  'Open': '1298000.00',\n",
       "  'Symbol': '005930.KS',\n",
       "  'Volume': '470000'}]"
      ]
     },
     "execution_count": 10,
     "metadata": {},
     "output_type": "execute_result"
    }
   ],
   "source": [
    "samsung.get_historical('2016-06-01','2016-06-30')"
   ]
  },
  {
   "cell_type": "code",
   "execution_count": null,
   "metadata": {
    "collapsed": true
   },
   "outputs": [],
   "source": [
    "def yahoo_get_dataframe"
   ]
  }
 ],
 "metadata": {
  "kernelspec": {
   "display_name": "Python 3",
   "language": "python",
   "name": "python3"
  },
  "language_info": {
   "codemirror_mode": {
    "name": "ipython",
    "version": 3
   },
   "file_extension": ".py",
   "mimetype": "text/x-python",
   "name": "python",
   "nbconvert_exporter": "python",
   "pygments_lexer": "ipython3",
   "version": "3.5.2"
  }
 },
 "nbformat": 4,
 "nbformat_minor": 0
}
