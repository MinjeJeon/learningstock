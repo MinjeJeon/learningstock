{
 "cells": [
  {
   "cell_type": "code",
   "execution_count": 2,
   "metadata": {
    "collapsed": true
   },
   "outputs": [],
   "source": [
    "from yahoo_finance import Share"
   ]
  },
  {
   "cell_type": "code",
   "execution_count": 11,
   "metadata": {
    "collapsed": true
   },
   "outputs": [],
   "source": [
    "samsung = Share('005930.KS')"
   ]
  },
  {
   "cell_type": "code",
   "execution_count": 14,
   "metadata": {
    "collapsed": false,
    "scrolled": false
   },
   "outputs": [
    {
     "data": {
      "text/plain": [
       "{'CompanyName': None,\n",
       " 'end': '2016-07-10',\n",
       " 'start': '2000-01-04',\n",
       " 'symbol': '005930.KS'}"
      ]
     },
     "execution_count": 14,
     "metadata": {},
     "output_type": "execute_result"
    }
   ],
   "source": [
    "samsung.get_info()"
   ]
  },
  {
   "cell_type": "code",
   "execution_count": 12,
   "metadata": {
    "collapsed": false
   },
   "outputs": [
    {
     "data": {
      "text/plain": [
       "[{'Adj_Close': '1460000.00',\n",
       "  'Close': '1460000.00',\n",
       "  'Date': '2016-07-08',\n",
       "  'High': '1475000.00',\n",
       "  'Low': '1449000.00',\n",
       "  'Open': '1450000.00',\n",
       "  'Symbol': '005930.KS',\n",
       "  'Volume': '269900'},\n",
       " {'Adj_Close': '1450000.00',\n",
       "  'Close': '1450000.00',\n",
       "  'Date': '2016-07-07',\n",
       "  'High': '1450000.00',\n",
       "  'Low': '1416000.00',\n",
       "  'Open': '1421000.00',\n",
       "  'Symbol': '005930.KS',\n",
       "  'Volume': '229900'},\n",
       " {'Adj_Close': '1421000.00',\n",
       "  'Close': '1421000.00',\n",
       "  'Date': '2016-07-06',\n",
       "  'High': '1452000.00',\n",
       "  'Low': '1412000.00',\n",
       "  'Open': '1447000.00',\n",
       "  'Symbol': '005930.KS',\n",
       "  'Volume': '334900'},\n",
       " {'Adj_Close': '1469000.00',\n",
       "  'Close': '1469000.00',\n",
       "  'Date': '2016-07-05',\n",
       "  'High': '1475000.00',\n",
       "  'Low': '1462000.00',\n",
       "  'Open': '1466000.00',\n",
       "  'Symbol': '005930.KS',\n",
       "  'Volume': '157400'},\n",
       " {'Adj_Close': '1466000.00',\n",
       "  'Close': '1466000.00',\n",
       "  'Date': '2016-07-04',\n",
       "  'High': '1474000.00',\n",
       "  'Low': '1451000.00',\n",
       "  'Open': '1464000.00',\n",
       "  'Symbol': '005930.KS',\n",
       "  'Volume': '159900'}]"
      ]
     },
     "execution_count": 12,
     "metadata": {},
     "output_type": "execute_result"
    }
   ],
   "source": [
    "samsung.get_historical('2016-07-04','2016-07-08')"
   ]
  },
  {
   "cell_type": "code",
   "execution_count": 17,
   "metadata": {
    "collapsed": true
   },
   "outputs": [],
   "source": [
    "import pandas as pd\n",
    "from pandas import DataFrame, Series"
   ]
  },
  {
   "cell_type": "code",
   "execution_count": 16,
   "metadata": {
    "collapsed": false
   },
   "outputs": [
    {
     "data": {
      "text/plain": [
       "{'CompanyName': None,\n",
       " 'end': '2016-07-10',\n",
       " 'start': '1996-04-12',\n",
       " 'symbol': 'YHOO'}"
      ]
     },
     "execution_count": 16,
     "metadata": {},
     "output_type": "execute_result"
    }
   ],
   "source": [
    "Share('YHOO').get_info()"
   ]
  },
  {
   "cell_type": "code",
   "execution_count": 18,
   "metadata": {
    "collapsed": false
   },
   "outputs": [
    {
     "data": {
      "text/html": [
       "<div>\n",
       "<table border=\"1\" class=\"dataframe\">\n",
       "  <thead>\n",
       "    <tr style=\"text-align: right;\">\n",
       "      <th></th>\n",
       "      <th>Adj_Close</th>\n",
       "      <th>Close</th>\n",
       "      <th>Date</th>\n",
       "      <th>High</th>\n",
       "      <th>Low</th>\n",
       "      <th>Open</th>\n",
       "      <th>Symbol</th>\n",
       "      <th>Volume</th>\n",
       "    </tr>\n",
       "  </thead>\n",
       "  <tbody>\n",
       "    <tr>\n",
       "      <th>0</th>\n",
       "      <td>1460000.00</td>\n",
       "      <td>1460000.00</td>\n",
       "      <td>2016-07-08</td>\n",
       "      <td>1475000.00</td>\n",
       "      <td>1449000.00</td>\n",
       "      <td>1450000.00</td>\n",
       "      <td>005930.KS</td>\n",
       "      <td>269900</td>\n",
       "    </tr>\n",
       "    <tr>\n",
       "      <th>1</th>\n",
       "      <td>1450000.00</td>\n",
       "      <td>1450000.00</td>\n",
       "      <td>2016-07-07</td>\n",
       "      <td>1450000.00</td>\n",
       "      <td>1416000.00</td>\n",
       "      <td>1421000.00</td>\n",
       "      <td>005930.KS</td>\n",
       "      <td>229900</td>\n",
       "    </tr>\n",
       "    <tr>\n",
       "      <th>2</th>\n",
       "      <td>1421000.00</td>\n",
       "      <td>1421000.00</td>\n",
       "      <td>2016-07-06</td>\n",
       "      <td>1452000.00</td>\n",
       "      <td>1412000.00</td>\n",
       "      <td>1447000.00</td>\n",
       "      <td>005930.KS</td>\n",
       "      <td>334900</td>\n",
       "    </tr>\n",
       "    <tr>\n",
       "      <th>3</th>\n",
       "      <td>1469000.00</td>\n",
       "      <td>1469000.00</td>\n",
       "      <td>2016-07-05</td>\n",
       "      <td>1475000.00</td>\n",
       "      <td>1462000.00</td>\n",
       "      <td>1466000.00</td>\n",
       "      <td>005930.KS</td>\n",
       "      <td>157400</td>\n",
       "    </tr>\n",
       "    <tr>\n",
       "      <th>4</th>\n",
       "      <td>1466000.00</td>\n",
       "      <td>1466000.00</td>\n",
       "      <td>2016-07-04</td>\n",
       "      <td>1474000.00</td>\n",
       "      <td>1451000.00</td>\n",
       "      <td>1464000.00</td>\n",
       "      <td>005930.KS</td>\n",
       "      <td>159900</td>\n",
       "    </tr>\n",
       "  </tbody>\n",
       "</table>\n",
       "</div>"
      ],
      "text/plain": [
       "    Adj_Close       Close        Date        High         Low        Open  \\\n",
       "0  1460000.00  1460000.00  2016-07-08  1475000.00  1449000.00  1450000.00   \n",
       "1  1450000.00  1450000.00  2016-07-07  1450000.00  1416000.00  1421000.00   \n",
       "2  1421000.00  1421000.00  2016-07-06  1452000.00  1412000.00  1447000.00   \n",
       "3  1469000.00  1469000.00  2016-07-05  1475000.00  1462000.00  1466000.00   \n",
       "4  1466000.00  1466000.00  2016-07-04  1474000.00  1451000.00  1464000.00   \n",
       "\n",
       "      Symbol  Volume  \n",
       "0  005930.KS  269900  \n",
       "1  005930.KS  229900  \n",
       "2  005930.KS  334900  \n",
       "3  005930.KS  157400  \n",
       "4  005930.KS  159900  "
      ]
     },
     "execution_count": 18,
     "metadata": {},
     "output_type": "execute_result"
    }
   ],
   "source": [
    "DataFrame(samsung.get_historical('2016-07-04','2016-07-08'))"
   ]
  },
  {
   "cell_type": "code",
   "execution_count": null,
   "metadata": {
    "collapsed": true
   },
   "outputs": [],
   "source": []
  }
 ],
 "metadata": {
  "kernelspec": {
   "display_name": "Python 3",
   "language": "python",
   "name": "python3"
  },
  "language_info": {
   "codemirror_mode": {
    "name": "ipython",
    "version": 3
   },
   "file_extension": ".py",
   "mimetype": "text/x-python",
   "name": "python",
   "nbconvert_exporter": "python",
   "pygments_lexer": "ipython3",
   "version": "3.5.1+"
  }
 },
 "nbformat": 4,
 "nbformat_minor": 0
}
